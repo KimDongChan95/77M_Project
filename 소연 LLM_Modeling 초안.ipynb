{
 "cells": [
  {
   "cell_type": "code",
   "execution_count": 1,
   "metadata": {
    "colab": {
     "base_uri": "https://localhost:8080/"
    },
    "id": "tuIiToqAp92P",
    "outputId": "daa2e6bb-2536-4cc3-c64e-d73c073297e1"
   },
   "outputs": [
    {
     "name": "stdout",
     "output_type": "stream",
     "text": [
      "Requirement already satisfied: langchain_openai in c:\\users\\lg\\anaconda3\\envs\\ml\\lib\\site-packages (0.2.10)\n",
      "Requirement already satisfied: langchain-core<0.4.0,>=0.3.21 in c:\\users\\lg\\anaconda3\\envs\\ml\\lib\\site-packages (from langchain_openai) (0.3.21)\n",
      "Requirement already satisfied: openai<2.0.0,>=1.54.0 in c:\\users\\lg\\anaconda3\\envs\\ml\\lib\\site-packages (from langchain_openai) (1.55.3)\n",
      "Requirement already satisfied: tiktoken<1,>=0.7 in c:\\users\\lg\\anaconda3\\envs\\ml\\lib\\site-packages (from langchain_openai) (0.8.0)\n",
      "Requirement already satisfied: PyYAML>=5.3 in c:\\users\\lg\\anaconda3\\envs\\ml\\lib\\site-packages (from langchain-core<0.4.0,>=0.3.21->langchain_openai) (6.0.2)\n",
      "Requirement already satisfied: jsonpatch<2.0,>=1.33 in c:\\users\\lg\\anaconda3\\envs\\ml\\lib\\site-packages (from langchain-core<0.4.0,>=0.3.21->langchain_openai) (1.33)\n",
      "Requirement already satisfied: langsmith<0.2.0,>=0.1.125 in c:\\users\\lg\\anaconda3\\envs\\ml\\lib\\site-packages (from langchain-core<0.4.0,>=0.3.21->langchain_openai) (0.1.143)\n",
      "Requirement already satisfied: packaging<25,>=23.2 in c:\\users\\lg\\anaconda3\\envs\\ml\\lib\\site-packages (from langchain-core<0.4.0,>=0.3.21->langchain_openai) (23.2)\n",
      "Requirement already satisfied: pydantic<3.0.0,>=2.7.4 in c:\\users\\lg\\anaconda3\\envs\\ml\\lib\\site-packages (from langchain-core<0.4.0,>=0.3.21->langchain_openai) (2.9.2)\n",
      "Requirement already satisfied: tenacity!=8.4.0,<10.0.0,>=8.1.0 in c:\\users\\lg\\anaconda3\\envs\\ml\\lib\\site-packages (from langchain-core<0.4.0,>=0.3.21->langchain_openai) (8.5.0)\n",
      "Requirement already satisfied: typing-extensions>=4.7 in c:\\users\\lg\\anaconda3\\envs\\ml\\lib\\site-packages (from langchain-core<0.4.0,>=0.3.21->langchain_openai) (4.11.0)\n",
      "Requirement already satisfied: anyio<5,>=3.5.0 in c:\\users\\lg\\anaconda3\\envs\\ml\\lib\\site-packages (from openai<2.0.0,>=1.54.0->langchain_openai) (4.6.2)\n",
      "Requirement already satisfied: distro<2,>=1.7.0 in c:\\users\\lg\\anaconda3\\envs\\ml\\lib\\site-packages (from openai<2.0.0,>=1.54.0->langchain_openai) (1.9.0)\n",
      "Requirement already satisfied: httpx<1,>=0.23.0 in c:\\users\\lg\\anaconda3\\envs\\ml\\lib\\site-packages (from openai<2.0.0,>=1.54.0->langchain_openai) (0.27.0)\n",
      "Requirement already satisfied: jiter<1,>=0.4.0 in c:\\users\\lg\\anaconda3\\envs\\ml\\lib\\site-packages (from openai<2.0.0,>=1.54.0->langchain_openai) (0.7.1)\n",
      "Requirement already satisfied: sniffio in c:\\users\\lg\\anaconda3\\envs\\ml\\lib\\site-packages (from openai<2.0.0,>=1.54.0->langchain_openai) (1.3.0)\n",
      "Requirement already satisfied: tqdm>4 in c:\\users\\lg\\anaconda3\\envs\\ml\\lib\\site-packages (from openai<2.0.0,>=1.54.0->langchain_openai) (4.66.5)\n",
      "Requirement already satisfied: regex>=2022.1.18 in c:\\users\\lg\\anaconda3\\envs\\ml\\lib\\site-packages (from tiktoken<1,>=0.7->langchain_openai) (2024.11.6)\n",
      "Requirement already satisfied: requests>=2.26.0 in c:\\users\\lg\\anaconda3\\envs\\ml\\lib\\site-packages (from tiktoken<1,>=0.7->langchain_openai) (2.32.3)\n",
      "Requirement already satisfied: idna>=2.8 in c:\\users\\lg\\anaconda3\\envs\\ml\\lib\\site-packages (from anyio<5,>=3.5.0->openai<2.0.0,>=1.54.0->langchain_openai) (3.7)\n",
      "Requirement already satisfied: certifi in c:\\users\\lg\\anaconda3\\envs\\ml\\lib\\site-packages (from httpx<1,>=0.23.0->openai<2.0.0,>=1.54.0->langchain_openai) (2024.8.30)\n",
      "Requirement already satisfied: httpcore==1.* in c:\\users\\lg\\anaconda3\\envs\\ml\\lib\\site-packages (from httpx<1,>=0.23.0->openai<2.0.0,>=1.54.0->langchain_openai) (1.0.2)\n",
      "Requirement already satisfied: h11<0.15,>=0.13 in c:\\users\\lg\\anaconda3\\envs\\ml\\lib\\site-packages (from httpcore==1.*->httpx<1,>=0.23.0->openai<2.0.0,>=1.54.0->langchain_openai) (0.14.0)\n",
      "Requirement already satisfied: jsonpointer>=1.9 in c:\\users\\lg\\anaconda3\\envs\\ml\\lib\\site-packages (from jsonpatch<2.0,>=1.33->langchain-core<0.4.0,>=0.3.21->langchain_openai) (3.0.0)\n",
      "Requirement already satisfied: orjson<4.0.0,>=3.9.14 in c:\\users\\lg\\anaconda3\\envs\\ml\\lib\\site-packages (from langsmith<0.2.0,>=0.1.125->langchain-core<0.4.0,>=0.3.21->langchain_openai) (3.10.11)\n",
      "Requirement already satisfied: requests-toolbelt<2.0.0,>=1.0.0 in c:\\users\\lg\\anaconda3\\envs\\ml\\lib\\site-packages (from langsmith<0.2.0,>=0.1.125->langchain-core<0.4.0,>=0.3.21->langchain_openai) (1.0.0)\n",
      "Requirement already satisfied: annotated-types>=0.6.0 in c:\\users\\lg\\anaconda3\\envs\\ml\\lib\\site-packages (from pydantic<3.0.0,>=2.7.4->langchain-core<0.4.0,>=0.3.21->langchain_openai) (0.7.0)\n",
      "Requirement already satisfied: pydantic-core==2.23.4 in c:\\users\\lg\\anaconda3\\envs\\ml\\lib\\site-packages (from pydantic<3.0.0,>=2.7.4->langchain-core<0.4.0,>=0.3.21->langchain_openai) (2.23.4)\n",
      "Requirement already satisfied: charset-normalizer<4,>=2 in c:\\users\\lg\\anaconda3\\envs\\ml\\lib\\site-packages (from requests>=2.26.0->tiktoken<1,>=0.7->langchain_openai) (3.3.2)\n",
      "Requirement already satisfied: urllib3<3,>=1.21.1 in c:\\users\\lg\\anaconda3\\envs\\ml\\lib\\site-packages (from requests>=2.26.0->tiktoken<1,>=0.7->langchain_openai) (2.2.3)\n",
      "Requirement already satisfied: colorama in c:\\users\\lg\\anaconda3\\envs\\ml\\lib\\site-packages (from tqdm>4->openai<2.0.0,>=1.54.0->langchain_openai) (0.4.6)\n",
      "Requirement already satisfied: langchain-community in c:\\users\\lg\\anaconda3\\envs\\ml\\lib\\site-packages (0.0.38)"
     ]
    },
    {
     "name": "stderr",
     "output_type": "stream",
     "text": [
      "ERROR: pip's dependency resolver does not currently take into account all the packages that are installed. This behaviour is the source of the following dependency conflicts.\n",
      "langchain 0.3.7 requires langchain-core<0.4.0,>=0.3.15, but you have langchain-core 0.1.53 which is incompatible.\n",
      "langchain-openai 0.2.10 requires langchain-core<0.4.0,>=0.3.21, but you have langchain-core 0.1.53 which is incompatible.\n",
      "langchain-text-splitters 0.3.2 requires langchain-core<0.4.0,>=0.3.15, but you have langchain-core 0.1.53 which is incompatible.\n"
     ]
    },
    {
     "name": "stdout",
     "output_type": "stream",
     "text": [
      "\n",
      "Requirement already satisfied: PyYAML>=5.3 in c:\\users\\lg\\anaconda3\\envs\\ml\\lib\\site-packages (from langchain-community) (6.0.2)\n",
      "Requirement already satisfied: SQLAlchemy<3,>=1.4 in c:\\users\\lg\\anaconda3\\envs\\ml\\lib\\site-packages (from langchain-community) (2.0.35)\n",
      "Requirement already satisfied: aiohttp<4.0.0,>=3.8.3 in c:\\users\\lg\\anaconda3\\envs\\ml\\lib\\site-packages (from langchain-community) (3.11.0)\n",
      "Requirement already satisfied: dataclasses-json<0.7,>=0.5.7 in c:\\users\\lg\\anaconda3\\envs\\ml\\lib\\site-packages (from langchain-community) (0.5.14)\n",
      "Collecting langchain-core<0.2.0,>=0.1.52 (from langchain-community)\n",
      "  Using cached langchain_core-0.1.53-py3-none-any.whl.metadata (5.9 kB)\n",
      "Requirement already satisfied: langsmith<0.2.0,>=0.1.0 in c:\\users\\lg\\anaconda3\\envs\\ml\\lib\\site-packages (from langchain-community) (0.1.143)\n",
      "Requirement already satisfied: numpy<2,>=1 in c:\\users\\lg\\anaconda3\\envs\\ml\\lib\\site-packages (from langchain-community) (1.26.4)\n",
      "Requirement already satisfied: requests<3,>=2 in c:\\users\\lg\\anaconda3\\envs\\ml\\lib\\site-packages (from langchain-community) (2.32.3)\n",
      "Requirement already satisfied: tenacity<9.0.0,>=8.1.0 in c:\\users\\lg\\anaconda3\\envs\\ml\\lib\\site-packages (from langchain-community) (8.5.0)\n",
      "Requirement already satisfied: aiohappyeyeballs>=2.3.0 in c:\\users\\lg\\anaconda3\\envs\\ml\\lib\\site-packages (from aiohttp<4.0.0,>=3.8.3->langchain-community) (2.4.3)\n",
      "Requirement already satisfied: aiosignal>=1.1.2 in c:\\users\\lg\\anaconda3\\envs\\ml\\lib\\site-packages (from aiohttp<4.0.0,>=3.8.3->langchain-community) (1.3.1)\n",
      "Requirement already satisfied: attrs>=17.3.0 in c:\\users\\lg\\anaconda3\\envs\\ml\\lib\\site-packages (from aiohttp<4.0.0,>=3.8.3->langchain-community) (24.2.0)\n",
      "Requirement already satisfied: frozenlist>=1.1.1 in c:\\users\\lg\\anaconda3\\envs\\ml\\lib\\site-packages (from aiohttp<4.0.0,>=3.8.3->langchain-community) (1.5.0)\n",
      "Requirement already satisfied: multidict<7.0,>=4.5 in c:\\users\\lg\\anaconda3\\envs\\ml\\lib\\site-packages (from aiohttp<4.0.0,>=3.8.3->langchain-community) (6.1.0)\n",
      "Requirement already satisfied: propcache>=0.2.0 in c:\\users\\lg\\anaconda3\\envs\\ml\\lib\\site-packages (from aiohttp<4.0.0,>=3.8.3->langchain-community) (0.2.0)\n",
      "Requirement already satisfied: yarl<2.0,>=1.17.0 in c:\\users\\lg\\anaconda3\\envs\\ml\\lib\\site-packages (from aiohttp<4.0.0,>=3.8.3->langchain-community) (1.17.1)\n",
      "Requirement already satisfied: marshmallow<4.0.0,>=3.18.0 in c:\\users\\lg\\anaconda3\\envs\\ml\\lib\\site-packages (from dataclasses-json<0.7,>=0.5.7->langchain-community) (3.23.1)\n",
      "Requirement already satisfied: typing-inspect<1,>=0.4.0 in c:\\users\\lg\\anaconda3\\envs\\ml\\lib\\site-packages (from dataclasses-json<0.7,>=0.5.7->langchain-community) (0.9.0)\n",
      "Requirement already satisfied: jsonpatch<2.0,>=1.33 in c:\\users\\lg\\anaconda3\\envs\\ml\\lib\\site-packages (from langchain-core<0.2.0,>=0.1.52->langchain-community) (1.33)\n",
      "Requirement already satisfied: packaging<24.0,>=23.2 in c:\\users\\lg\\anaconda3\\envs\\ml\\lib\\site-packages (from langchain-core<0.2.0,>=0.1.52->langchain-community) (23.2)\n",
      "Requirement already satisfied: pydantic<3,>=1 in c:\\users\\lg\\anaconda3\\envs\\ml\\lib\\site-packages (from langchain-core<0.2.0,>=0.1.52->langchain-community) (2.9.2)\n",
      "Requirement already satisfied: httpx<1,>=0.23.0 in c:\\users\\lg\\anaconda3\\envs\\ml\\lib\\site-packages (from langsmith<0.2.0,>=0.1.0->langchain-community) (0.27.0)\n",
      "Requirement already satisfied: orjson<4.0.0,>=3.9.14 in c:\\users\\lg\\anaconda3\\envs\\ml\\lib\\site-packages (from langsmith<0.2.0,>=0.1.0->langchain-community) (3.10.11)\n",
      "Requirement already satisfied: requests-toolbelt<2.0.0,>=1.0.0 in c:\\users\\lg\\anaconda3\\envs\\ml\\lib\\site-packages (from langsmith<0.2.0,>=0.1.0->langchain-community) (1.0.0)\n",
      "Requirement already satisfied: charset-normalizer<4,>=2 in c:\\users\\lg\\anaconda3\\envs\\ml\\lib\\site-packages (from requests<3,>=2->langchain-community) (3.3.2)\n",
      "Requirement already satisfied: idna<4,>=2.5 in c:\\users\\lg\\anaconda3\\envs\\ml\\lib\\site-packages (from requests<3,>=2->langchain-community) (3.7)\n",
      "Requirement already satisfied: urllib3<3,>=1.21.1 in c:\\users\\lg\\anaconda3\\envs\\ml\\lib\\site-packages (from requests<3,>=2->langchain-community) (2.2.3)\n",
      "Requirement already satisfied: certifi>=2017.4.17 in c:\\users\\lg\\anaconda3\\envs\\ml\\lib\\site-packages (from requests<3,>=2->langchain-community) (2024.8.30)\n",
      "Requirement already satisfied: typing-extensions>=4.6.0 in c:\\users\\lg\\anaconda3\\envs\\ml\\lib\\site-packages (from SQLAlchemy<3,>=1.4->langchain-community) (4.11.0)\n",
      "Requirement already satisfied: greenlet!=0.4.17 in c:\\users\\lg\\anaconda3\\envs\\ml\\lib\\site-packages (from SQLAlchemy<3,>=1.4->langchain-community) (3.1.1)\n",
      "Requirement already satisfied: anyio in c:\\users\\lg\\anaconda3\\envs\\ml\\lib\\site-packages (from httpx<1,>=0.23.0->langsmith<0.2.0,>=0.1.0->langchain-community) (4.6.2)\n",
      "Requirement already satisfied: httpcore==1.* in c:\\users\\lg\\anaconda3\\envs\\ml\\lib\\site-packages (from httpx<1,>=0.23.0->langsmith<0.2.0,>=0.1.0->langchain-community) (1.0.2)\n",
      "Requirement already satisfied: sniffio in c:\\users\\lg\\anaconda3\\envs\\ml\\lib\\site-packages (from httpx<1,>=0.23.0->langsmith<0.2.0,>=0.1.0->langchain-community) (1.3.0)\n",
      "Requirement already satisfied: h11<0.15,>=0.13 in c:\\users\\lg\\anaconda3\\envs\\ml\\lib\\site-packages (from httpcore==1.*->httpx<1,>=0.23.0->langsmith<0.2.0,>=0.1.0->langchain-community) (0.14.0)\n",
      "Requirement already satisfied: jsonpointer>=1.9 in c:\\users\\lg\\anaconda3\\envs\\ml\\lib\\site-packages (from jsonpatch<2.0,>=1.33->langchain-core<0.2.0,>=0.1.52->langchain-community) (3.0.0)\n",
      "Requirement already satisfied: annotated-types>=0.6.0 in c:\\users\\lg\\anaconda3\\envs\\ml\\lib\\site-packages (from pydantic<3,>=1->langchain-core<0.2.0,>=0.1.52->langchain-community) (0.7.0)\n",
      "Requirement already satisfied: pydantic-core==2.23.4 in c:\\users\\lg\\anaconda3\\envs\\ml\\lib\\site-packages (from pydantic<3,>=1->langchain-core<0.2.0,>=0.1.52->langchain-community) (2.23.4)\n",
      "Requirement already satisfied: mypy-extensions>=0.3.0 in c:\\users\\lg\\anaconda3\\envs\\ml\\lib\\site-packages (from typing-inspect<1,>=0.4.0->dataclasses-json<0.7,>=0.5.7->langchain-community) (1.0.0)\n",
      "Using cached langchain_core-0.1.53-py3-none-any.whl (303 kB)\n",
      "Installing collected packages: langchain-core\n",
      "  Attempting uninstall: langchain-core\n",
      "    Found existing installation: langchain-core 0.3.21\n",
      "    Uninstalling langchain-core-0.3.21:\n",
      "      Successfully uninstalled langchain-core-0.3.21\n",
      "Successfully installed langchain-core-0.1.53\n",
      "Requirement already satisfied: pypdf in c:\\users\\lg\\anaconda3\\envs\\ml\\lib\\site-packages (5.1.0)\n",
      "Requirement already satisfied: faiss-cpu in c:\\users\\lg\\anaconda3\\envs\\ml\\lib\\site-packages (1.9.0)\n",
      "Requirement already satisfied: numpy<3.0,>=1.25.0 in c:\\users\\lg\\anaconda3\\envs\\ml\\lib\\site-packages (from faiss-cpu) (1.26.4)\n",
      "Requirement already satisfied: packaging in c:\\users\\lg\\anaconda3\\envs\\ml\\lib\\site-packages (from faiss-cpu) (23.2)\n"
     ]
    }
   ],
   "source": [
    "!pip install langchain_openai\n",
    "!pip install langchain-community\n",
    "!pip install pypdf\n",
    "!pip install faiss-cpu"
   ]
  },
  {
   "cell_type": "code",
   "execution_count": null,
   "metadata": {
    "colab": {
     "base_uri": "https://localhost:8080/"
    },
    "id": "xfeiHqj0qA6Y",
    "outputId": "c22f7e26-3069-4d6f-ea83-972b9bed2d7e"
   },
   "outputs": [],
   "source": [
    "#사용 환경 준비\n",
    "import os\n",
    "from getpass import getpass\n",
    "\n",
    "os.environ[\"OPENAI_API_KEY\"] = getpass(\"OpenAI API key 입력: \")"
   ]
  },
  {
   "cell_type": "code",
   "execution_count": null,
   "metadata": {
    "id": "jJaT5ItXpo--"
   },
   "outputs": [],
   "source": [
    "from langchain.document_loaders import CSVLoader\n",
    "from langchain.text_splitter import RecursiveCharacterTextSplitter\n",
    "from langchain.llms import OpenAI\n",
    "from langchain.chains import LLMChain\n",
    "from langchain.prompts import PromptTemplate"
   ]
  },
  {
   "cell_type": "code",
   "execution_count": 12,
   "metadata": {
    "id": "BI77do_ppuFC"
   },
   "outputs": [],
   "source": [
    "# 데이터 로딩 및 chunking 처리\n",
    "def load_chunk_data(file_path, chunk_size=100, chunk_overlap=50):\n",
    "    loader = CSVLoader(file_path=file_path)\n",
    "    documents = loader.load()\n",
    "# 텍스트 분할기 설정 (chunk_size와 chunk_overlap 조정 가능)\n",
    "    text_splitter = RecursiveCharacterTextSplitter(\n",
    "        chunk_size=chunk_size,\n",
    "        chunk_overlap=chunk_overlap\n",
    "    )\n",
    "# 데이터를 작은 덩어리로 나누기\n",
    "    split_docs = text_splitter.split_documents(documents)\n",
    "    return split_docs\n",
    "\n"
   ]
  },
  {
   "cell_type": "code",
   "execution_count": 13,
   "metadata": {
    "id": "8WNyoxeQqdkG"
   },
   "outputs": [],
   "source": [
    "# 문화제 데이터와 여행지 데이터 로딩 및 chunk 처리\n",
    "culture_data = load_chunk_data(\"final(culture).csv\")\n",
    "place_data = load_chunk_data(\"final(place).csv\")"
   ]
  },
  {
   "cell_type": "code",
   "execution_count": 14,
   "metadata": {
    "id": "y74iccOaqelB"
   },
   "outputs": [],
   "source": [
    "# OpenAI LLM 설정하기(온도는 어느정도로 하는게 낫나요? 사실 위 청크 사이즈도..)\n",
    "llm = OpenAI(temperature=0.7)"
   ]
  },
  {
   "cell_type": "code",
   "execution_count": 17,
   "metadata": {
    "id": "646_EpN0qmRW"
   },
   "outputs": [],
   "source": [
    "# 첫 번째 prompt : 문화제에 관련된 답변을 찾기\n",
    "culture_prompt = \"\"\"\n",
    "사용자의 질문에 대한 내용을 기반으로, 문화제와 관련된 정보를 찾아 주세요.\n",
    "예시 질문: \"이 지역의 문화제는 무엇이 있나요?\"\n",
    "\"\"\"\n",
    "\n",
    "culture_chain = LLMChain(llm=llm, prompt=PromptTemplate(input_variables=[], template=culture_prompt))\n"
   ]
  },
  {
   "cell_type": "code",
   "execution_count": 18,
   "metadata": {
    "id": "TAraibYUq7lc"
   },
   "outputs": [],
   "source": [
    "# 첫 번째 promt : 문화제에 관련된 답변\n",
    "def get_culture_result(user_question, chunked_data):\n",
    "    # chunked_data에서 유의미한 문서 찾기 (간단한 예시로 첫 번째 덩어리 사용)\n",
    "    culture_result = culture_chain.run(input=user_question)\n",
    "    return culture_result"
   ]
  },
  {
   "cell_type": "code",
   "execution_count": 19,
   "metadata": {
    "id": "YZnVHSN1rr5p"
   },
   "outputs": [],
   "source": [
    "# 두 번째 prompt : 여행지에 관련된 답변을 찾기\n",
    "place_prompt = \"\"\"\n",
    "사용자가 언급한 지역에 대한 여행지 정보를 제공해 주세요.\n",
    "예시 질문: \"이 지역에서 가볼 만한 여행지는 어디인가요?\"\n",
    "\"\"\"\n",
    "\n",
    "place_chain = LLMChain(llm=llm, prompt=PromptTemplate(input_variables=[], template=place_prompt))\n"
   ]
  },
  {
   "cell_type": "code",
   "execution_count": 20,
   "metadata": {
    "id": "1MicwU3TrryC"
   },
   "outputs": [],
   "source": [
    "# 두 번째 프롬프트에 대한 답변 (여행지)\n",
    "def get_place_result(user_question, region_name, chunked_data):\n",
    "    # chunked_data에서 유의미한 문서 찾기 (간단한 예시로 첫 번째 덩어리 사용)\n",
    "    place_result = place_chain.run(input=user_question)\n",
    "    return place_result"
   ]
  },
  {
   "cell_type": "code",
   "execution_count": 21,
   "metadata": {
    "id": "_FeUxbM5rrqf"
   },
   "outputs": [],
   "source": [
    "# 사용자가 질문한 내용 (이거 동, 구도 ????? )\n",
    "user_question = \"부산에서 어떤 문화제가 유명하나요?\"\n",
    "region_name = \"부산\""
   ]
  },
  {
   "cell_type": "code",
   "execution_count": 1,
   "metadata": {
    "colab": {
     "base_uri": "https://localhost:8080/"
    },
    "id": "3lv9NloGsBjf",
    "outputId": "7f980b0e-f5e2-41e2-eeb2-ed722730995c"
   },
   "outputs": [
    {
     "ename": "NameError",
     "evalue": "name 'get_culture_result' is not defined",
     "output_type": "error",
     "traceback": [
      "\u001b[1;31m---------------------------------------------------------------------------\u001b[0m",
      "\u001b[1;31mNameError\u001b[0m                                 Traceback (most recent call last)",
      "Cell \u001b[1;32mIn[1], line 2\u001b[0m\n\u001b[0;32m      1\u001b[0m \u001b[38;5;66;03m# 첫 번째 결과: 문화제에 대한 응답\u001b[39;00m\n\u001b[1;32m----> 2\u001b[0m result1 \u001b[38;5;241m=\u001b[39m get_culture_result(user_question, culture_data)\n\u001b[0;32m      4\u001b[0m \u001b[38;5;66;03m# 두 번째 결과: 여행지에 대한 응답\u001b[39;00m\n\u001b[0;32m      5\u001b[0m result2 \u001b[38;5;241m=\u001b[39m get_place_result(user_question, region_name, place_data)\n",
      "\u001b[1;31mNameError\u001b[0m: name 'get_culture_result' is not defined"
     ]
    }
   ],
   "source": [
    "# 첫 번째 결과: 문화제에 대한 응답\n",
    "result1 = get_culture_result(user_question, culture_data)\n",
    "\n",
    "# 두 번째 결과: 여행지에 대한 응답\n",
    "result2 = get_place_result(user_question, region_name, place_data)"
   ]
  },
  {
   "cell_type": "code",
   "execution_count": 23,
   "metadata": {
    "id": "p-G823gdsEBG"
   },
   "outputs": [],
   "source": [
    "# 두 결과 합치기\n",
    "final_result = f\"문화제 관련 정보: {result1}\\n\\n여행지 관련 정보: {result2}\""
   ]
  },
  {
   "cell_type": "code",
   "execution_count": 24,
   "metadata": {
    "colab": {
     "base_uri": "https://localhost:8080/"
    },
    "id": "wONiYwKjsIqN",
    "outputId": "9214c39f-de96-467f-8113-9b6f5b9a012e"
   },
   "outputs": [
    {
     "name": "stdout",
     "output_type": "stream",
     "text": [
      "문화제 관련 정보: \n",
      "이 지역의 문화제는 다양한 종류가 있을 수 있습니다. 일반적으로 문화제는 지역의 역사, 전통, 예술, 음악, 음식 등을 기념하거나 선보이는 행사로 분류할 수 있습니다.\n",
      "\n",
      "예를 들어, 한국의 대표적인 문화제 중 하나인 \"전주 한옥마을 축제\"는 전라북도 전주시에서 매년 10월에 개최되며, 전통 음식, 한복 체험, 전통 공연 등 다양한 문화 프로그램을 즐길 수 있습니다.\n",
      "\n",
      "또한, \"서울 국제음악제\"는 매년 9월에 서울시에서 개최되는 대규모 음악 축제로, 국내외 유명 음악가들의\n",
      "\n",
      "여행지 관련 정보: \n",
      "\"이 지역에서 가볼 만한 여행지는 어디인가요?\"\n",
      "\n",
      "저는 해당 지역의 관광지, 문화 시설, 자연 경관 등 다양한 여행지 정보를 제공할 수 있습니다. 아래는 해당 지역에서 추천드리는 몇 가지 여행지 예시입니다.\n",
      "\n",
      "1. A씨티 랜드마크: 이곳은 지역의 대표적인 랜드마크로, 도시의 역사와 문화를 알 수 있는 곳입니다. 또한 전망대에서는 멋진 전망을 즐길 수 있습니다.\n",
      "2. B공원: 이곳은 자연 그대로의 아름다움을 감상할 수 있는 공원으로, 산책로, 수목원, 연못 등 다양한 시설을 갖추고 있습니다.\n",
      "3. C박물관:\n"
     ]
    }
   ],
   "source": [
    "# 최종 결과 출력\n",
    "print(final_result)"
   ]
  }
 ],
 "metadata": {
  "colab": {
   "provenance": []
  },
  "kernelspec": {
   "display_name": "ML",
   "language": "python",
   "name": "ml"
  },
  "language_info": {
   "codemirror_mode": {
    "name": "ipython",
    "version": 3
   },
   "file_extension": ".py",
   "mimetype": "text/x-python",
   "name": "python",
   "nbconvert_exporter": "python",
   "pygments_lexer": "ipython3",
   "version": "3.12.5"
  }
 },
 "nbformat": 4,
 "nbformat_minor": 4
}
