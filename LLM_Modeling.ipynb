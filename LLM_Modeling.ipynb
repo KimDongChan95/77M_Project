{
 "cells": [
  {
   "cell_type": "code",
   "execution_count": 1,
   "metadata": {},
   "outputs": [],
   "source": [
    "#1. 사용환경 준비\n",
    "import os\n",
    "from dotenv import load_dotenv\n",
    "from openai import OpenAI \n",
    "\n",
    "# openai API키 입력\n",
    "load_dotenv()\n",
    "\n",
    "client = OpenAI(api_key = os.getenv(\"OPENAI_API_KEY\"))"
   ]
  },
  {
   "cell_type": "code",
   "execution_count": 2,
   "metadata": {},
   "outputs": [],
   "source": [
    "#2. 모델 로드하기 \n",
    "from langchain_openai import ChatOpenAI\n",
    "\n",
    "# 모델 초기화\n",
    "model = ChatOpenAI(model=\"gpt-4o-mini\")"
   ]
  },
  {
   "cell_type": "code",
   "execution_count": 3,
   "metadata": {},
   "outputs": [],
   "source": [
    "#3. 문서 로드하기\n",
    "from langchain.document_loaders import CSVLoader\n",
    "\n",
    "# PDF 파일 로드. 파일의 경로 입력\n",
    "loader = CSVLoader(\"문화재_크롤링_결과.csv\",encoding='UTF8')\n",
    "loader2 = CSVLoader(\"여행지_크롤링_결과.csv\",encoding='UTF8')\n",
    "\n",
    "# 페이지 별 문서 로드\n",
    "Treasures = loader.load()\n",
    "Travel = loader2.load()"
   ]
  },
  {
   "cell_type": "code",
   "execution_count": 4,
   "metadata": {},
   "outputs": [],
   "source": [
    "#4. 문서 청크로 나누기(CharacterTextSplitter)\n",
    "from langchain.text_splitter import CharacterTextSplitter\n",
    "from langchain.schema import Document\n",
    "\n",
    "\n",
    "\n",
    "# 텍스트 청크 분할기 설정 (문단 기준 분할)\n",
    "text_splitter = CharacterTextSplitter(\n",
    "    \n",
    "    separator=\"\\n\",\n",
    "    chunk_overlap=0,\n",
    "    length_function=len,\n",
    "    is_separator_regex=False,\n",
    ")\n",
    "\n",
    "Treasures_splits = text_splitter.split_documents(Treasures) # 문서를 청크로 분할\n",
    "Travel_splits = text_splitter.split_documents(Travel)\n",
    "\n",
    "splits_sum = Treasures_splits + Travel_splits"
   ]
  },
  {
   "cell_type": "code",
   "execution_count": 5,
   "metadata": {},
   "outputs": [],
   "source": [
    "#5 벡터 임베딩 생성\n",
    "from langchain_openai import OpenAIEmbeddings\n",
    "\n",
    "# OpenAI 임베딩 모델 초기화\n",
    "embeddings = OpenAIEmbeddings(model=\"text-embedding-ada-002\")"
   ]
  },
  {
   "cell_type": "code",
   "execution_count": 6,
   "metadata": {},
   "outputs": [],
   "source": [
    "#6. 벡터 스토어 생성\n",
    "import faiss\n",
    "from langchain_community.vectorstores import FAISS\n",
    "\n",
    "# 문서에서 벡터 저장소 생성\n",
    "vectorstore = FAISS.from_documents(documents=splits_sum, embedding=embeddings)\n"
   ]
  },
  {
   "cell_type": "code",
   "execution_count": 7,
   "metadata": {},
   "outputs": [],
   "source": [
    "from langchain.vectorstores.base import VectorStore\n",
    "#7. FAISS를 Retriever로 변환\n",
    "retriever = vectorstore.as_retriever(search_type=\"similarity\", search_kwargs={\"k\": 5})"
   ]
  },
  {
   "cell_type": "code",
   "execution_count": 8,
   "metadata": {},
   "outputs": [],
   "source": [
    "#8. 프롬프트 템플릿을 정의\n",
    "from langchain_core.prompts import ChatPromptTemplate\n",
    "from langchain_core.runnables import RunnablePassthrough\n",
    "\n",
    "# 프롬프트 템플릿 정의\n",
    "contextual_prompt = ChatPromptTemplate.from_messages([\n",
    "    (\"system\", \"Answer the question using only the following context\"\n",
    "    \"\"\"\n",
    "    e.g. 국보 10호가 뭐야? : 국보 10호는 남원 실상사 백장암 삼층석탑입니다. 주소지는 전북 남원시 산내면 천왕봉로 447-76 입니다\n",
    "    \"\"\"\n",
    "    \"\"\"    \n",
    "    보물 100호가 뭐야? : 보물 100호는 당진 안국사지 석조여래삼존입상. 주소지는 충남 당진시 정미면 원당골1길 188 (수당리) 입니다\n",
    "    \"\"\"\n",
    "    \"\"\"\n",
    "    국보 10호 주변에 가볼만한 곳 추천해줘 : 국보 10호 주변에 가볼만한 곳은 광한루원,전북특별자치도 남원시 요천로 1447,063-620-8907 또는 지리산 허브밸리,전북특별자치도 남원시 운봉읍 바래봉길 214 또는 \"인월시장 / 인월장(3, 8일)\",전북특별자치도 남원시 인월면 인월로 65-3,063-625-1498 가 있습니다\n",
    "    \"\"\"\n",
    "    ),\n",
    "    (\"user\", \"Context: {context}\\\\n\\\\nQuestion: {question}\")\n",
    "])"
   ]
  },
  {
   "cell_type": "code",
   "execution_count": 9,
   "metadata": {},
   "outputs": [
    {
     "name": "stderr",
     "output_type": "stream",
     "text": [
      "/var/folders/j9/nrfqzn3s2q349sv0cw_v64vm0000gn/T/ipykernel_23487/2174693903.py:40: LangChainDeprecationWarning: The class `LLMChain` was deprecated in LangChain 0.1.17 and will be removed in 1.0. Use :meth:`~RunnableSequence, e.g., `prompt | llm`` instead.\n",
      "  llm_chain = LLMChain(llm=model, prompt=contextual_prompt)\n"
     ]
    }
   ],
   "source": [
    "#9. LangChain의 모델과 프롬프트를 연결하여 RAG 체인을 구성\n",
    "from langchain.chains import LLMChain\n",
    "\n",
    "class SimplePassThrough:\n",
    "    def invoke(self, inputs, **kwargs):\n",
    "        return inputs\n",
    "\n",
    "class ContextToPrompt:\n",
    "    def __init__(self, prompt_template):\n",
    "        self.prompt_template = prompt_template\n",
    "    \n",
    "    def invoke(self, inputs):\n",
    "        # 문서 내용을 텍스트로 변환\n",
    "        if isinstance(inputs, list):\n",
    "            context_text = \"\\n\".join([doc.page_content for doc in inputs])\n",
    "        else:\n",
    "            context_text = inputs\n",
    "        \n",
    "        # 프롬프트 템플릿에 적용\n",
    "        formatted_prompt = self.prompt_template.format_messages(\n",
    "            context=context_text,\n",
    "            question=inputs.get(\"question\", \"\")\n",
    "        )\n",
    "        return formatted_prompt\n",
    "\n",
    "# Retriever를 invoke() 메서드로 래핑하는 클래스 정의\n",
    "class RetrieverWrapper:\n",
    "    def __init__(self, retriever):\n",
    "        self.retriever = retriever\n",
    "\n",
    "    def invoke(self, inputs):\n",
    "        if isinstance(inputs, dict):\n",
    "            query = inputs.get(\"question\", \"\")\n",
    "        else:\n",
    "            query = inputs\n",
    "        # 검색 수행\n",
    "        response_Treasures = self.retriever.get_relevant_documents(query)\n",
    "        return response_Treasures\n",
    "#텍스트 생성 체인 생성\n",
    "llm_chain = LLMChain(llm=model, prompt=contextual_prompt)\n",
    "\n",
    "# RAG 체인 설정\n",
    "rag_chain_debug = {\n",
    "    \"context\": RetrieverWrapper(retriever),\n",
    "    \"prompt\": ContextToPrompt(contextual_prompt),\n",
    "    \"llm\": model\n",
    "}"
   ]
  },
  {
   "cell_type": "code",
   "execution_count": 10,
   "metadata": {},
   "outputs": [
    {
     "name": "stdout",
     "output_type": "stream",
     "text": [
      "========================\n"
     ]
    },
    {
     "name": "stderr",
     "output_type": "stream",
     "text": [
      "/var/folders/j9/nrfqzn3s2q349sv0cw_v64vm0000gn/T/ipykernel_23487/2174693903.py:37: LangChainDeprecationWarning: The method `BaseRetriever.get_relevant_documents` was deprecated in langchain-core 0.1.46 and will be removed in 1.0. Use :meth:`~invoke` instead.\n",
      "  response_Treasures = self.retriever.get_relevant_documents(query)\n"
     ]
    },
    {
     "name": "stdout",
     "output_type": "stream",
     "text": [
      "\n",
      "질문: 숭례문 주변 가볼만한곳 추천해줘\n",
      "\n",
      "답변:\n",
      "숭례문 주변에 가볼만한 곳은 국립중앙박물관, 서울특별시 용산구 서빙고로 137 또는 남산서울타워, 서울특별시 용산구 남산공원길 105가 있습니다.\n",
      "========================\n"
     ]
    }
   ],
   "source": [
    "# 챗봇 구동\n",
    "while True:\n",
    "    print(\"========================\")\n",
    "    query = input(\"질문을 입력하세요 : \")\n",
    "    if query == \"종료\": # 종료 입력 시 챗봇 종료\n",
    "        break\n",
    "    \n",
    "    # 1. Retriever로 관련 문서 검색\n",
    "    response_Treasures = rag_chain_debug[\"context\"].invoke({\"question\": query})\n",
    "    \n",
    "    # 2. 문서를 프롬프트로 변환\n",
    "    prompt_messages = rag_chain_debug[\"prompt\"].invoke({\n",
    "        \"context\": response_Treasures,\n",
    "        \"question\": query\n",
    "    })\n",
    "    \n",
    "    # 3. LLM으로 응답 생성\n",
    "    response = rag_chain_debug[\"llm\"].invoke(prompt_messages)\n",
    "    \n",
    "    print(\"\\n질문:\",query)\n",
    "    print(\"\\n답변:\")\n",
    "    print(response.content) # 답변 출력"
   ]
  },
  {
   "cell_type": "code",
   "execution_count": null,
   "metadata": {},
   "outputs": [],
   "source": []
  }
 ],
 "metadata": {
  "kernelspec": {
   "display_name": "LLM_2",
   "language": "python",
   "name": "python3"
  },
  "language_info": {
   "codemirror_mode": {
    "name": "ipython",
    "version": 3
   },
   "file_extension": ".py",
   "mimetype": "text/x-python",
   "name": "python",
   "nbconvert_exporter": "python",
   "pygments_lexer": "ipython3",
   "version": "3.13.0"
  }
 },
 "nbformat": 4,
 "nbformat_minor": 4
}
