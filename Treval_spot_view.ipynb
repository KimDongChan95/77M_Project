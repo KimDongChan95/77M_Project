{
 "cells": [
  {
   "cell_type": "code",
   "execution_count": 1,
   "id": "0b5c3687-a80f-43d3-8f25-80d340beb87f",
   "metadata": {},
   "outputs": [
    {
     "name": "stdout",
     "output_type": "stream",
     "text": [
      "Requirement already satisfied: pandas in c:\\users\\lg\\anaconda3\\envs\\ml\\lib\\site-packages (2.2.2)\n",
      "Requirement already satisfied: numpy>=1.26.0 in c:\\users\\lg\\anaconda3\\envs\\ml\\lib\\site-packages (from pandas) (1.26.4)\n",
      "Requirement already satisfied: python-dateutil>=2.8.2 in c:\\users\\lg\\anaconda3\\envs\\ml\\lib\\site-packages (from pandas) (2.9.0.post0)\n",
      "Requirement already satisfied: pytz>=2020.1 in c:\\users\\lg\\anaconda3\\envs\\ml\\lib\\site-packages (from pandas) (2024.1)\n",
      "Requirement already satisfied: tzdata>=2022.7 in c:\\users\\lg\\anaconda3\\envs\\ml\\lib\\site-packages (from pandas) (2023.3)\n",
      "Requirement already satisfied: six>=1.5 in c:\\users\\lg\\anaconda3\\envs\\ml\\lib\\site-packages (from python-dateutil>=2.8.2->pandas) (1.16.0)\n"
     ]
    }
   ],
   "source": [
    "!pip install pandas"
   ]
  },
  {
   "cell_type": "code",
   "execution_count": 2,
   "id": "dae3a631-6cce-4be0-96cc-312dfb84d52d",
   "metadata": {},
   "outputs": [],
   "source": [
    "import pandas as pd"
   ]
  },
  {
   "cell_type": "code",
   "execution_count": 12,
   "id": "92b74c99-4a2d-42f9-9803-8071c0195e7b",
   "metadata": {},
   "outputs": [
    {
     "name": "stdout",
     "output_type": "stream",
     "text": [
      "데이터프레임 미리보기:\n",
      "                      title                                       address  \\\n",
      "0                   구인사(단양)                          충청북도 단양군 영춘면 구인사길 73   \n",
      "1  원대리 자작나무 숲 (속삭이는 자작나무 숲)                    강원특별자치도 인제군 인제읍 자작나무숲길 760   \n",
      "2                   감악산(거창)  경상남도 거창군 남상면 무촌리 산295번지 일원(신원면 구사리 산12-1 인근)   \n",
      "3                 임진강 댑싸리공원                                경기도 연천군 중면 삼곶리   \n",
      "4                  홍천 은행나무숲                      강원특별자치도 홍천군 내면 광원리 686-4   \n",
      "\n",
      "                    telNo  \n",
      "0                     NaN  \n",
      "1  자작나무숲 안내소 033-463-0044  \n",
      "2            055-940-8227  \n",
      "3            031-839-2609  \n",
      "4            033-433-1259  \n",
      "\n",
      "데이터프레임 정보:\n",
      "<class 'pandas.core.frame.DataFrame'>\n",
      "RangeIndex: 39459 entries, 0 to 39458\n",
      "Data columns (total 3 columns):\n",
      " #   Column   Non-Null Count  Dtype \n",
      "---  ------   --------------  ----- \n",
      " 0   title    39459 non-null  object\n",
      " 1   address  39451 non-null  object\n",
      " 2   telNo    23422 non-null  object\n",
      "dtypes: object(3)\n",
      "memory usage: 924.9+ KB\n",
      "None\n",
      "\n",
      "누락된 값 개수:\n",
      "title          0\n",
      "address        8\n",
      "telNo      16037\n",
      "dtype: int64\n",
      "\n",
      "정리된 데이터프레임:\n",
      "                      title                                       address  \\\n",
      "0                   구인사(단양)                          충청북도 단양군 영춘면 구인사길 73   \n",
      "1  원대리 자작나무 숲 (속삭이는 자작나무 숲)                    강원특별자치도 인제군 인제읍 자작나무숲길 760   \n",
      "2                   감악산(거창)  경상남도 거창군 남상면 무촌리 산295번지 일원(신원면 구사리 산12-1 인근)   \n",
      "3                 임진강 댑싸리공원                                경기도 연천군 중면 삼곶리   \n",
      "4                  홍천 은행나무숲                      강원특별자치도 홍천군 내면 광원리 686-4   \n",
      "\n",
      "                    telNo  \n",
      "0                     NaN  \n",
      "1  자작나무숲 안내소 033-463-0044  \n",
      "2            055-940-8227  \n",
      "3            031-839-2609  \n",
      "4            033-433-1259  \n"
     ]
    }
   ],
   "source": [
    "import pandas as pd\n",
    "\n",
    "# 파일 경로 지정\n",
    "file_path = r\"C:\\Users\\LG\\Desktop\\77M_Project\\Travel_spot.csv\"\n",
    "\n",
    "try:\n",
    "    # CSV 파일 읽기 (구분자는 기본적으로 쉼표로 설정)\n",
    "    df = pd.read_csv(file_path)\n",
    "\n",
    "    # 데이터 프레임 확인\n",
    "    print(\"데이터프레임 미리보기:\")\n",
    "    print(df.head())\n",
    "\n",
    "    # 데이터 구조 확인\n",
    "    print(\"\\n데이터프레임 정보:\")\n",
    "    print(df.info())\n",
    "\n",
    "    # 누락된 값 확인\n",
    "    print(\"\\n누락된 값 개수:\")\n",
    "    print(df.isnull().sum())\n",
    "\n",
    "    # 필요시 정렬 (예: 특정 열 기준으로 정렬)\n",
    "    # 정렬이 필요한 열 이름을 'column_name'에 입력\n",
    "    # df = df.sort_values(by='column_name', ascending=True)\n",
    "\n",
    "    # 필요시 열 필터링 (필요한 열만 선택)\n",
    "    # df = df[['column1', 'column2']]\n",
    "\n",
    "    # 인덱스 재정렬\n",
    "    df.reset_index(drop=True, inplace=True)\n",
    "\n",
    "    # 정리된 데이터프레임 출력\n",
    "    print(\"\\n정리된 데이터프레임:\")\n",
    "    print(df.head())\n",
    "\n",
    "except FileNotFoundError:\n",
    "    print(f\"파일을 찾을 수 없습니다. 경로를 확인하세요: {file_path}\")\n",
    "except Exception as e:\n",
    "    print(f\"오류 발생: {e}\")\n"
   ]
  },
  {
   "cell_type": "code",
   "execution_count": null,
   "id": "0177b34b-4b39-472a-8572-c05dd193a66e",
   "metadata": {},
   "outputs": [],
   "source": []
  }
 ],
 "metadata": {
  "kernelspec": {
   "display_name": "ML",
   "language": "python",
   "name": "ml"
  },
  "language_info": {
   "codemirror_mode": {
    "name": "ipython",
    "version": 3
   },
   "file_extension": ".py",
   "mimetype": "text/x-python",
   "name": "python",
   "nbconvert_exporter": "python",
   "pygments_lexer": "ipython3",
   "version": "3.12.5"
  }
 },
 "nbformat": 4,
 "nbformat_minor": 5
}
