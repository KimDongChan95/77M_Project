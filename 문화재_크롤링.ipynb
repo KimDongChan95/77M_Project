{
 "cells": [
  {
   "cell_type": "markdown",
   "metadata": {},
   "source": [
    "## 1. 웹 페이지 요청하기"
   ]
  },
  {
   "cell_type": "code",
   "execution_count": null,
   "metadata": {},
   "outputs": [
    {
     "name": "stdout",
     "output_type": "stream",
     "text": [
      "HTML 일부: <!DOCTYPE html>\n",
      "<html class=\"client-nojs vector-feature-language-in-header-enabled vector-feature-language-in-main-page-header-disabled vector-feature-sticky-header-disabled vector-feature-page-tools-pinned-disabled vector-feature-toc-pinned-clientpref-1 vector-feature-main-menu-pinned-disabled vector-feature-limited-width-clientpref-1 vector-feature-limited-width-content-enabled vector-feature-custom-font-size-clientpref-1 vector-feature-appearance-pinned-clientpref-1 vector-feature-night-mode-\n"
     ]
    }
   ],
   "source": [
    "import requests\n",
    "from bs4 import BeautifulSoup\n",
    "import pandas as pd\n",
    "import json\n",
    "from typing import List, Dict\n",
    "\n",
    "def cultural_heritage_info():\n",
    "    \n",
    "    url = \"https://ko.wikipedia.org/wiki/%EB%8C%80%ED%95%9C%EB%AF%BC%EA%B5%AD%EC%9D%98_%EB%B3%B4%EB%AC%BC_(2020%EB%85%84%EB%8C%80_%EC%A0%84%EB%B0%98)\"\n",
    "    headers = {\n",
    "        'User-Agent': 'Mozilla/5.0 (Windows NT 10.0; Win64; x64) AppleWebKit/537.36 (KHTML, like Gecko) Chrome/130.0.0.0 Safari/537.36 Edg/130.0.0.0'\n",
    "    }\n",
    "    \n",
    "    try:\n",
    "        response = requests.get(url, headers=headers)\n",
    "        response.raise_for_status()  # 오류가 있으면 예외를 발생시킴\n",
    "        return response.text\n",
    "    except requests.exceptions.RequestException as e:\n",
    "        print(f\"요청 중 에러 발생: {e}\")\n",
    "        return \"\"\n",
    "\n",
    "# 테스트: 첫 페이지 가져오기\n",
    "html = cultural_heritage_info()\n",
    "print(\"HTML 일부:\", html[:500])  # 처음 500자만 출력"
   ]
  },
  {
   "cell_type": "markdown",
   "metadata": {},
   "source": [
    "## 2. HTML 파싱하기"
   ]
  },
  {
   "cell_type": "code",
   "execution_count": null,
   "metadata": {},
   "outputs": [
    {
     "name": "stdout",
     "output_type": "stream",
     "text": [
      "찾은 문화 유산 수: 104\n",
      "\n",
      "첫 번째 문화 유산 정보:\n",
      "{\n",
      "  \"number\": \"1219-4호\",\n",
      "  \"designation\": \"대방광원각수다라요의경(언해) 권상1의2(大方廣圓覺脩多羅了義經(諺解) 卷上一之二)\",\n",
      "  \"location\": \"서울 동대문구\"\n",
      "}\n",
      "\n",
      " 마지막 문화 유산 정보:\n",
      "{\n",
      "  \"number\": \"-\",\n",
      "  \"designation\": \"거제 기성관(巨濟 岐城館)\",\n",
      "  \"location\": \"경상남도 거제시\"\n",
      "}\n"
     ]
    }
   ],
   "source": [
    "def Heritage_info(html: str) -> List[Dict]:\n",
    "    \n",
    "    stores = []\n",
    "    soup = BeautifulSoup(html, 'html.parser')\n",
    "    # 모든 tbody를 가져옴\n",
    "    tbodies = soup.find_all('tbody')\n",
    "    # 마지막 tbody를 제외한 나머지 tbody를 반복\n",
    "    for tbody in tbodies[:-1]:  # 마지막 tbody를 제외\n",
    "        # tbody 내의 모든 tr 요소 찾기\n",
    "        for tr in tbody.find_all(\"tr\"):\n",
    "            # 각 tr 내의 td와 th 요소 찾기\n",
    "            tds = tr.find_all('td')\n",
    "            ths = tr.find_all('th')\n",
    "            if len(ths) < 1:\n",
    "                continue\n",
    "            if len(tds) < 6:\n",
    "                continue\n",
    "            store = {\n",
    "                'number': ths[0].text.strip(),\n",
    "                'designation': tds[1].text.strip(),\n",
    "                'location': tds[2].text.strip(),\n",
    "            }\n",
    "            # 특정 조건에 따라 데이터 필터링\n",
    "            if \"문화유산(시도별·시군구별)\" in store['number']:\n",
    "                continue  # 특정 값이 포함된 경우 건너뛰기\n",
    "            stores.append(store)\n",
    "    return stores  # 모든 tbody에서 수집한 데이터 반환\n",
    "# 테스트: 첫 페이지 파싱하기\n",
    "stores = Heritage_info(html)\n",
    "print(f\"찾은 문화 유산 수: {len(stores)}\")\n",
    "print(\"\\n첫 번째 문화 유산 정보:\")\n",
    "print(json.dumps(stores[0], ensure_ascii=False, indent=2))  # 첫 번째 매장 정보 출력\n",
    "print(\"\\n 마지막 문화 유산 정보:\")\n",
    "print(json.dumps(stores[-1], ensure_ascii=False, indent=2))  # 첫 번째 매장 정보 출력"
   ]
  },
  {
   "cell_type": "markdown",
   "metadata": {},
   "source": [
    "## 3. 데이터 저장하기"
   ]
  },
  {
   "cell_type": "code",
   "execution_count": null,
   "metadata": {},
   "outputs": [
    {
     "name": "stdout",
     "output_type": "stream",
     "text": [
      "CSV 파일 저장 완료: ./Cultural_Heritage_info12.csv\n",
      "\n",
      "데이터 미리보기:\n",
      "    number                                        designation  \\\n",
      "0  1219-3호  대방광원각수다라요의경(언해) 권하 1의1∼2, 2의1∼2(大方廣圓覺脩多羅了義經(諺解...   \n",
      "1  1281-4호  자치통감 권226~229(資治通鑑 卷二百二十六～二百二十九)(Jachi tonggam...   \n",
      "2    1851호               논산 쌍계사 소조석가여래삼불좌상(論山 雙溪寺 塑造釋迦如來三佛坐像)   \n",
      "3    1852호  남원 선원사 목조지장보살삼존상 및 소조시왕상 일괄(南原 禪院寺 木造地藏菩薩三尊像 및...   \n",
      "4    1853호             완주 정수사 목조아미타여래삼존좌상(完州 淨水寺 木造阿彌陀如來三尊坐像)   \n",
      "\n",
      "              location  \n",
      "0   부산 기장군 일광면 용천리 취장사  \n",
      "1  울산 남구 두왕로 277 울산박물관  \n",
      "2     충남 논산시 양촌면 중산리 3  \n",
      "3       전북 남원시 도통동 392  \n",
      "4   전북 완주군 상관면 마치리 137  \n"
     ]
    }
   ],
   "source": [
    "def save_to_files(stores: List[Dict], base_path: str = \"./\"):\n",
    "    \n",
    "    # CSV 파일로 저장\n",
    "    df = pd.DataFrame(stores)\n",
    "    csv_path = f\"{base_path}Cultural_Heritage_info13.csv\"\n",
    "    df.to_csv(csv_path, encoding='utf-8', index=False)\n",
    "    \n",
    "    \n",
    "    print(f\"CSV 파일 저장 완료: {csv_path}\")\n",
    "    \n",
    "    # 데이터 미리보기\n",
    "    print(\"\\n데이터 미리보기:\")\n",
    "    print(df.head())\n",
    "\n",
    "# 테스트: 첫 페이지 데이터 저장하기\n",
    "save_to_files(stores)"
   ]
  },
  {
   "cell_type": "markdown",
   "metadata": {},
   "source": [
    "## 4. 전체 과정 실행하기"
   ]
  },
  {
   "cell_type": "code",
   "execution_count": null,
   "metadata": {},
   "outputs": [
    {
     "name": "stdout",
     "output_type": "stream",
     "text": [
      "문화 유산 정보 수집 중...\n",
      "100개의 문화 유산 수집 완료\n",
      "\n",
      "총 100개의 문화 유산을 수집했습니다.\n",
      "CSV 파일 저장 완료: ./Cultural_Heritage_info4.csv\n",
      "\n",
      "데이터 미리보기:\n",
      "   number                                        designation  \\\n",
      "0    583호  전주 풍패지관(全州 豊沛之館)(Pungpaejigwan Guesthouse, Jeo...   \n",
      "1    584호  구례 윤문효공 신도비(求禮 尹文孝公 神道碑)(Stele for Yun Munhyog...   \n",
      "2    585호  퇴우이선생진적(退尤二先生眞蹟)(Manuscript of Yi Hwang and So...   \n",
      "3  586-1호  이언적 수고본 일괄-속대학혹문(李彦迪 手稿本 一括-續大學或問)(Manuscripts...   \n",
      "4  586-2호  이언적 수고본 일괄-대학장구보유(李彦迪 手稿本 一括-大學章句補遺)(Manuscrip...   \n",
      "\n",
      "                            location  \n",
      "0                 전북 전주시 완산구 중앙동 3가1  \n",
      "1               전남 구례군 산동면 이평리 산91-1  \n",
      "2                             서울 용산구  \n",
      "3              경북 경주시 안강읍 옥산리 7 옥산서원  \n",
      "4  경북 경주시 안강읍 옥산서원길 300-3, 독락당 (옥산리)  \n"
     ]
    }
   ],
   "source": [
    "def main():\n",
    "    stores = []\n",
    "    \n",
    "    # 매장 정보 수집\n",
    "    print(\"문화 유산 정보 수집 중...\")\n",
    "\n",
    "    html = cultural_heritage_info()\n",
    "    if html:\n",
    "        page_stores = Heritage_info(html)\n",
    "        stores.extend(page_stores)\n",
    "        print(f\"{len(page_stores)}개의 문화 유산 수집 완료\")\n",
    "    \n",
    "    if not stores:\n",
    "        print(\"문화재 정보를 가져오는데 실패했습니다.\")\n",
    "        return\n",
    "        \n",
    "    print(f\"\\n총 {len(stores)}개의 문화 유산을 수집했습니다.\")\n",
    "\n",
    "    # 데이터 저장\n",
    "    try:\n",
    "        save_to_files(stores)\n",
    "    except Exception as e:\n",
    "        print(f\"데이터 저장 중 에러 발생: {e}\")\n",
    "\n",
    "# 전체 과정 실행\n",
    "main()"
   ]
  },
  {
   "cell_type": "code",
   "execution_count": null,
   "metadata": {},
   "outputs": [],
   "source": [
    "df1 = pd.read_csv(file1)\n",
    "df2 = pd.read_csv(file2)\n",
    "\n",
    "# 두 데이터프레임을 합칩니다.\n",
    "merged_df = pd.concat([df1, df2], ignore_index=True)\n",
    "\n",
    "# 합쳐진 데이터프레임을 새로운 CSV 파일로 저장합니다.\n",
    "merged_df.to_csv(output_file, index=False, encoding='utf-8')\n",
    "print(f\"합쳐진 CSV 파일 저장 완료: {output_file}\")"
   ]
  }
 ],
 "metadata": {
  "kernelspec": {
   "display_name": ".venv",
   "language": "python",
   "name": "python3"
  },
  "language_info": {
   "codemirror_mode": {
    "name": "ipython",
    "version": 3
   },
   "file_extension": ".py",
   "mimetype": "text/x-python",
   "name": "python",
   "nbconvert_exporter": "python",
   "pygments_lexer": "ipython3",
   "version": "3.12.6"
  }
 },
 "nbformat": 4,
 "nbformat_minor": 2
}
