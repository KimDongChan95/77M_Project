{
 "cells": [
  {
   "cell_type": "code",
   "execution_count": 1,
   "metadata": {},
   "outputs": [
    {
     "name": "stdin",
     "output_type": "stream",
     "text": [
      "OpenAI API key 입력:  ········\n"
     ]
    }
   ],
   "source": [
    "#1. 사용환경 준비\n",
    "import os\n",
    "from getpass import getpass\n",
    "\n",
    "os.environ[\"OPENAI_API_KEY\"] = getpass(\"OpenAI API key 입력: \") # API 키 입력"
   ]
  },
  {
   "cell_type": "code",
   "execution_count": 2,
   "metadata": {},
   "outputs": [],
   "source": [
    "#2. 모델 로드하기 \n",
    "from langchain_openai import ChatOpenAI\n",
    "\n",
    "# 모델 초기화\n",
    "model = ChatOpenAI(model=\"gpt-4o-mini\")"
   ]
  },
  {
   "cell_type": "code",
   "execution_count": 3,
   "metadata": {},
   "outputs": [
    {
     "name": "stdout",
     "output_type": "stream",
     "text": [
      "[Document(metadata={'source': 'Travel_spot.csv', 'row': 0}, page_content='title: 구인사(단양)\\naddress: 충청북도 단양군 영춘면 구인사길 73\\ntelNo: ')]\n"
     ]
    }
   ],
   "source": [
    "#3. 문서 로드하기\n",
    "from langchain.document_loaders import CSVLoader\n",
    "\n",
    "# csv 파일 로드.\n",
    "loader = CSVLoader(\"Cultural_asset.csv\",encoding='UTF8')\n",
    "loader2 = CSVLoader(\"Travel_spot.csv\",encoding='UTF8')\n",
    "\n",
    "# 페이지 별 문서 로드\n",
    "Treasures = loader.load()\n",
    "Travel = loader2.load()\n",
    "print(Travel[:1])"
   ]
  },
  {
   "cell_type": "code",
   "execution_count": 4,
   "metadata": {},
   "outputs": [
    {
     "name": "stdout",
     "output_type": "stream",
     "text": [
      "page_content='title: 원대리 자작나무 숲 (속삭이는 자작나무 숲)\n",
      "address: 강원특별자치도 인제군 인제읍 자작나무숲길 760\n",
      "telNo: 자작나무숲 안내소 033-463-0044' metadata={'source': 'Travel_spot.csv', 'row': 1}\n"
     ]
    }
   ],
   "source": [
    "#4. 문서 청크로 나누기(CharacterTextSplitter)\n",
    "from langchain.text_splitter import CharacterTextSplitter\n",
    "from langchain.schema import Document\n",
    "\n",
    "\n",
    "\n",
    "# 텍스트 청크 분할기 설정 (문단 기준 분할)\n",
    "text_splitter = CharacterTextSplitter(\n",
    "    separator=\"\\n\",\n",
    "    chunk_overlap=10,\n",
    "    length_function=len,\n",
    "    is_separator_regex=False,\n",
    ")\n",
    "\n",
    "splits = text_splitter.split_documents(Treasures) # 문서를 청크로 분할\n",
    "splits2 = text_splitter.split_documents(Travel)\n",
    "print(splits2[1]) # 상위 1개만 출력"
   ]
  },
  {
   "cell_type": "code",
   "execution_count": 5,
   "metadata": {},
   "outputs": [],
   "source": [
    "#5 벡터 임베딩 생성\n",
    "from langchain_openai import OpenAIEmbeddings\n",
    "\n",
    "# OpenAI 임베딩 모델 초기화\n",
    "embeddings = OpenAIEmbeddings(model=\"text-embedding-ada-002\")\n"
   ]
  },
  {
   "cell_type": "code",
   "execution_count": 6,
   "metadata": {},
   "outputs": [],
   "source": [
    "#6. 벡터 저장소 생성\n",
    "import faiss\n",
    "from langchain_community.vectorstores import FAISS\n",
    "\n",
    "# 문서에서 벡터 저장소 생성\n",
    "vectorstore = FAISS.from_documents(documents=splits, embedding=embeddings)"
   ]
  },
  {
   "cell_type": "code",
   "execution_count": 7,
   "metadata": {},
   "outputs": [],
   "source": [
    "#(수정)Travel 데이터를 기반으로 벡터 저장소 생성\n",
    "travel_vectorstore = FAISS.from_documents(documents=splits2, embedding=embeddings)"
   ]
  },
  {
   "cell_type": "code",
   "execution_count": 8,
   "metadata": {},
   "outputs": [],
   "source": [
    "#7. FAISS를 Retriever로 변환\n",
    "retriever = vectorstore.as_retriever(search_type=\"similarity\", search_kwargs={\"k\": 1})"
   ]
  },
  {
   "cell_type": "code",
   "execution_count": 9,
   "metadata": {},
   "outputs": [],
   "source": [
    "#(수정)Travel 데이터를 위한 Retriever 생성\n",
    "travel_retriever = travel_vectorstore.as_retriever(search_type=\"similarity\", search_kwargs={\"k\": 2})"
   ]
  },
  {
   "cell_type": "code",
   "execution_count": 29,
   "metadata": {},
   "outputs": [],
   "source": [
    "#8. 프롬프트 템플릿을 정의하라\n",
    "from langchain_core.prompts import ChatPromptTemplate\n",
    "from langchain_core.runnables import RunnablePassthrough\n",
    "\n",
    "# 프롬프트 템플릿 정의\n",
    "contextual_prompt = ChatPromptTemplate.from_messages([\n",
    "    (\"system\", \"Answer the question using only the following context. Do not include any external information. Respond in Korean only.\"),\n",
    "    (\"user\", \"Context: {context}\\\\n\\\\nQuestion: {question}\")\n",
    "])"
   ]
  },
  {
   "cell_type": "code",
   "execution_count": 34,
   "metadata": {},
   "outputs": [],
   "source": [
    "# (수정) 띄어쓰기 문제 개선 코드 써봤지만 실패\n",
    "import re\n",
    "\n",
    "class ContextToPrompt:\n",
    "    def __init__(self, prompt_template):\n",
    "        self.prompt_template = prompt_template\n",
    "\n",
    "    def normalize_spacing(self, text):\n",
    "        # 모든 연속된 공백을 하나의 공백으로 줄임\n",
    "        return re.sub(r'\\s+', ' ', text).strip()\n",
    "\n",
    "    def invoke(self, inputs):\n",
    "        if isinstance(inputs, list):\n",
    "            # 페이지 내용을 정리하여 하나의 텍스트로 연결, 띄어쓰기를 정규화\n",
    "            context_text = \"\\n\".join([self.normalize_spacing(doc.page_content.strip()) for doc in inputs])\n",
    "        else:\n",
    "            context_text = self.normalize_spacing(inputs.strip())\n",
    "\n",
    "        # 프롬프트에 적용\n",
    "        formatted_prompt = self.prompt_template.format_messages(\n",
    "            context=context_text,\n",
    "            question=inputs.get(\"question\", \"\").strip() if isinstance(inputs, dict) else inputs.strip()\n",
    "        )\n",
    "        return formatted_prompt"
   ]
  },
  {
   "cell_type": "code",
   "execution_count": 33,
   "metadata": {
    "scrolled": true
   },
   "outputs": [
    {
     "name": "stdout",
     "output_type": "stream",
     "text": [
      "Requirement already satisfied: fuzzywuzzy in c:\\users\\lg\\anaconda3\\envs\\ml\\lib\\site-packages (0.18.0)\n",
      "Requirement already satisfied: python-Levenshtein in c:\\users\\lg\\anaconda3\\envs\\ml\\lib\\site-packages (0.26.1)\n",
      "Requirement already satisfied: Levenshtein==0.26.1 in c:\\users\\lg\\anaconda3\\envs\\ml\\lib\\site-packages (from python-Levenshtein) (0.26.1)\n",
      "Requirement already satisfied: rapidfuzz<4.0.0,>=3.9.0 in c:\\users\\lg\\anaconda3\\envs\\ml\\lib\\site-packages (from Levenshtein==0.26.1->python-Levenshtein) (3.10.1)\n"
     ]
    }
   ],
   "source": [
    "!pip install fuzzywuzzy\n",
    "!pip install python-Levenshtein"
   ]
  },
  {
   "cell_type": "code",
   "execution_count": 92,
   "metadata": {},
   "outputs": [
    {
     "name": "stdout",
     "output_type": "stream",
     "text": [
      "[Document(metadata={'source': 'Cultural_asset.csv', 'row': 0}, page_content='number: 1호\\ndesignation: 서울 숭례문\\nlocation: 서울 중구 세종대로 40 (남대문로4가)')]\n"
     ]
    }
   ],
   "source": [
    "from langchain.document_loaders import CSVLoader\n",
    "\n",
    "# Cultural_asset.csv 파일을 로드하고 데이터를 가져옵니다.\n",
    "loader = CSVLoader(\"Cultural_asset.csv\", encoding='UTF8')\n",
    "\n",
    "# 데이터를 로드하여 Treasures 변수에 저장\n",
    "Treasures = loader.load()\n",
    "\n",
    "# 데이터를 제대로 로드했는지 확인\n",
    "print(Treasures[:1])  # 첫 번째 데이터 출력\n"
   ]
  },
  {
   "cell_type": "code",
   "execution_count": 136,
   "metadata": {},
   "outputs": [],
   "source": [
    "from fuzzywuzzy import process, fuzz\n",
    "import pandas as pd\n",
    "import re\n",
    "\n",
    "# CSV 파일에서 여행지 데이터 읽기\n",
    "def load_travel_data(file_path):\n",
    "    try:\n",
    "        df = pd.read_csv(file_path)\n",
    "        return df[['title', 'address']].values.tolist()  # 'title'과 'address'만 추출\n",
    "    except FileNotFoundError:\n",
    "        print(f\"파일을 찾을 수 없습니다: {file_path}\")\n",
    "        return []\n",
    "    except Exception as e:\n",
    "        print(f\"파일을 읽는 중 오류가 발생했습니다: {e}\")\n",
    "        return []\n",
    "\n",
    "# 문화재 정보가 저장된 CSV 파일을 읽어오는 함수\n",
    "def load_treasure_data(file_path):\n",
    "    try:\n",
    "        df = pd.read_csv(file_path)\n",
    "        return df[['designation', 'location']].values.tolist()  # 'designation'과 'location'만 추출\n",
    "    except FileNotFoundError:\n",
    "        print(f\"파일을 찾을 수 없습니다: {file_path}\")\n",
    "        return []\n",
    "    except Exception as e:\n",
    "        print(f\"파일을 읽는 중 오류가 발생했습니다: {e}\")\n",
    "        return []\n",
    "\n",
    "# 문화재명에서 괄호와 영어 설명 제거하는 함수\n",
    "def clean_designation(designation):\n",
    "    # 괄호와 괄호 안의 내용 제거\n",
    "    cleaned = re.sub(r'\\(.*\\)', '', designation)\n",
    "    # 양 옆의 공백 제거 후 반환\n",
    "    return cleaned.strip()\n",
    "\n",
    "# 여행지 위치 비교 클래스\n",
    "class LocationMatcher:\n",
    "    def __init__(self, travel_data):\n",
    "        self.travel_data = travel_data\n",
    "\n",
    "    def match_location(self, treasure_location):\n",
    "        # 여행지의 주소만 가져오기\n",
    "        travel_addresses = [str(spot[1]) for spot in self.travel_data]\n",
    "\n",
    "        # 문화재 위치와 가장 유사한 여행지 주소 찾기\n",
    "        best_matches = process.extract(treasure_location, travel_addresses, scorer=fuzz.ratio, limit=5)\n",
    "\n",
    "        # 유사도가 높은 상위 3개 제외 부분 제거\n",
    "        best_match_data = []\n",
    "        for match in best_matches:\n",
    "            match_data = [spot for spot in self.travel_data if str(spot[1]) == match[0]]\n",
    "            if match_data:\n",
    "                best_match_data.append(match_data[0])\n",
    "\n",
    "        return best_match_data\n",
    "\n",
    "# CSV 파일에서 데이터 읽기\n",
    "travel_spots = load_travel_data('travel_spot.csv')  # 여행지 데이터\n",
    "treasure_data = load_treasure_data('Cultural_asset.csv')  # 문화재 데이터\n",
    "\n",
    "# 위치 비교 인스턴스 생성\n",
    "location_matcher = LocationMatcher(travel_spots)"
   ]
  },
  {
   "cell_type": "code",
   "execution_count": null,
   "metadata": {},
   "outputs": [
    {
     "name": "stdout",
     "output_type": "stream",
     "text": [
      "========================\n"
     ]
    },
    {
     "name": "stdin",
     "output_type": "stream",
     "text": [
      "질문을 입력하세요 :  김완초상\n"
     ]
    },
    {
     "name": "stdout",
     "output_type": "stream",
     "text": [
      "\n",
      "■문화재 위치: 전남 영암군 서호면 화송리 159\n",
      "\n",
      "■추천 여행지:\n",
      "   - 왕벚165 \n",
      "     주소(전라남도 영암군 서호면 왕인로 165)\n",
      "   - 구고사 및 김완장군부조묘 \n",
      "     주소(전라남도 영암군 서호면 화소길 20)\n",
      "   - F1 오토캠핑장 \n",
      "     주소(전라남도 영암군 삼호읍 삼포리 1894)\n",
      "   - 죽정서원 \n",
      "     주소(전라남도 영암군 군서면 죽정서원길 19)\n",
      "   - 영암도기박물관 \n",
      "     주소(전라남도 영암군 군서면 서호정길 5)\n",
      "========================\n"
     ]
    },
    {
     "name": "stdin",
     "output_type": "stream",
     "text": [
      "질문을 입력하세요 :  김완 초 상\n"
     ]
    },
    {
     "name": "stdout",
     "output_type": "stream",
     "text": [
      "김완 초 상에 대한 문화재 정보가 없습니다.\n",
      "========================\n"
     ]
    },
    {
     "name": "stdin",
     "output_type": "stream",
     "text": [
      "질문을 입력하세요 :  김완 초상\n"
     ]
    },
    {
     "name": "stdout",
     "output_type": "stream",
     "text": [
      "김완 초상에 대한 문화재 정보가 없습니다.\n",
      "========================\n"
     ]
    }
   ],
   "source": [
    "# 챗봇 구동\n",
    "while True:\n",
    "    print(\"========================\")\n",
    "    query = input(\"질문을 입력하세요 : \")\n",
    "    if query == \"종료\":  # 종료 입력 시 챗봇 종료\n",
    "        print(\"챗봇을 종료합니다.\")\n",
    "        break\n",
    "\n",
    "    # 1. 사용자 질문에 해당하는 문화재명 찾기\n",
    "    treasure_name = query.strip()\n",
    "\n",
    "    # 2. 문화재 정보 처리 (treasure_name에 해당하는 위치 가져오기)\n",
    "    treasure_location = next(\n",
    "        (location for designation, location in treasure_data if clean_designation(designation) == treasure_name),\n",
    "        None\n",
    "    )\n",
    "\n",
    "    if treasure_location:\n",
    "        print(f\"\\n■문화재 위치: {treasure_location}\\n\")\n",
    "\n",
    "        # 여행지 위치와 비교하여 추천\n",
    "        best_match_data = location_matcher.match_location(treasure_location)\n",
    "\n",
    "        if best_match_data:\n",
    "            print(f\"■추천 여행지:\")\n",
    "            for title, address in best_match_data:\n",
    "                print(f\"   - {title} \\n     주소({address})\")\n",
    "        else:\n",
    "            print(\"추천된 여행지가 유효하지 않습니다.\")\n",
    "    else:\n",
    "        print(f\"{treasure_name}에 대한 문화재 정보가 없습니다.\")"
   ]
  },
  {
   "cell_type": "code",
   "execution_count": null,
   "metadata": {},
   "outputs": [],
   "source": []
  }
 ],
 "metadata": {
  "kernelspec": {
   "display_name": "ML",
   "language": "python",
   "name": "ml"
  },
  "language_info": {
   "codemirror_mode": {
    "name": "ipython",
    "version": 3
   },
   "file_extension": ".py",
   "mimetype": "text/x-python",
   "name": "python",
   "nbconvert_exporter": "python",
   "pygments_lexer": "ipython3",
   "version": "3.12.5"
  }
 },
 "nbformat": 4,
 "nbformat_minor": 4
}
